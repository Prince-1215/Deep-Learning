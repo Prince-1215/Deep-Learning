{
 "cells": [
  {
   "cell_type": "code",
   "execution_count": 1,
   "id": "666bb25b",
   "metadata": {},
   "outputs": [],
   "source": [
    "import tensorflow as tf\n",
    "from keras.preprocessing.image import ImageDataGenerator"
   ]
  },
  {
   "cell_type": "code",
   "execution_count": 2,
   "id": "8259994c",
   "metadata": {},
   "outputs": [
    {
     "name": "stdout",
     "output_type": "stream",
     "text": [
      "Found 251 images belonging to 3 classes.\n"
     ]
    }
   ],
   "source": [
    "train_datagen = ImageDataGenerator(rescale = 1./255,\n",
    "                                   shear_range = 0.2,\n",
    "                                   zoom_range = 0.2,\n",
    "                                   horizontal_flip = True)\n",
    "training_set = train_datagen.flow_from_directory('C:/User/Prince/Downloads/Covid19-dataset/train',\n",
    "                                                 target_size = (64, 64),\n",
    "                                                 batch_size = 32,\n",
    "                                                 class_mode = 'categorical')"
   ]
  },
  {
   "cell_type": "code",
   "execution_count": 3,
   "id": "40f9e07c",
   "metadata": {},
   "outputs": [
    {
     "name": "stdout",
     "output_type": "stream",
     "text": [
      "Found 66 images belonging to 3 classes.\n"
     ]
    }
   ],
   "source": [
    "test_datagen = ImageDataGenerator(rescale = 1./255)\n",
    "test_set = test_datagen.flow_from_directory('C:/User/Prince/Downloads/Covid19-dataset/test',\n",
    "                                            target_size = (64, 64),\n",
    "                                            batch_size = 32,\n",
    "                                            class_mode = 'categorical')"
   ]
  },
  {
   "cell_type": "code",
   "execution_count": 4,
   "id": "ca5dbc52",
   "metadata": {},
   "outputs": [],
   "source": [
    "cnn = tf.keras.models.Sequential()"
   ]
  },
  {
   "cell_type": "code",
   "execution_count": 5,
   "id": "e3612509",
   "metadata": {},
   "outputs": [],
   "source": [
    "cnn.add(tf.keras.layers.Conv2D(32,(3,3),activation='relu', input_shape=[64, 64, 3]))"
   ]
  },
  {
   "cell_type": "code",
   "execution_count": 6,
   "id": "26844646",
   "metadata": {},
   "outputs": [],
   "source": [
    "cnn.add(tf.keras.layers.MaxPool2D(pool_size=2, strides=2))"
   ]
  },
  {
   "cell_type": "code",
   "execution_count": 7,
   "id": "50c1c3df",
   "metadata": {},
   "outputs": [],
   "source": [
    "cnn.add(tf.keras.layers.Conv2D(32,(3,3),activation='relu'))\n",
    "cnn.add(tf.keras.layers.MaxPool2D(pool_size=2, strides=2))"
   ]
  },
  {
   "cell_type": "code",
   "execution_count": 8,
   "id": "f1290baa",
   "metadata": {},
   "outputs": [],
   "source": [
    "cnn.add(tf.keras.layers.Conv2D(32,(3,3),activation='relu'))\n",
    "cnn.add(tf.keras.layers.MaxPool2D(pool_size=2, strides=2))"
   ]
  },
  {
   "cell_type": "code",
   "execution_count": 9,
   "id": "dd4a14b5",
   "metadata": {},
   "outputs": [
    {
     "name": "stdout",
     "output_type": "stream",
     "text": [
      "Epoch 1/25\n",
      "8/8 [==============================] - 8s 954ms/step - loss: 1.1029 - accuracy: 0.2948 - val_loss: 1.0980 - val_accuracy: 0.3939\n",
      "Epoch 2/25\n",
      "8/8 [==============================] - 7s 889ms/step - loss: 1.0972 - accuracy: 0.4422 - val_loss: 1.0974 - val_accuracy: 0.3939\n",
      "Epoch 3/25\n",
      "8/8 [==============================] - 7s 881ms/step - loss: 1.0958 - accuracy: 0.4422 - val_loss: 1.0968 - val_accuracy: 0.3939\n",
      "Epoch 4/25\n",
      "8/8 [==============================] - 7s 899ms/step - loss: 1.0947 - accuracy: 0.4422 - val_loss: 1.0962 - val_accuracy: 0.3939\n",
      "Epoch 5/25\n",
      "8/8 [==============================] - 7s 889ms/step - loss: 1.0937 - accuracy: 0.4422 - val_loss: 1.0957 - val_accuracy: 0.3939\n",
      "Epoch 6/25\n",
      "8/8 [==============================] - 7s 851ms/step - loss: 1.0927 - accuracy: 0.4422 - val_loss: 1.0951 - val_accuracy: 0.3939\n",
      "Epoch 7/25\n",
      "8/8 [==============================] - 7s 903ms/step - loss: 1.0917 - accuracy: 0.4422 - val_loss: 1.0947 - val_accuracy: 0.3939\n",
      "Epoch 8/25\n",
      "8/8 [==============================] - 7s 897ms/step - loss: 1.0876 - accuracy: 0.4024 - val_loss: 1.0932 - val_accuracy: 0.3030\n",
      "Epoch 9/25\n",
      "8/8 [==============================] - 7s 886ms/step - loss: 1.0861 - accuracy: 0.3825 - val_loss: 1.0740 - val_accuracy: 0.6061\n",
      "Epoch 10/25\n",
      "8/8 [==============================] - 7s 934ms/step - loss: 1.0704 - accuracy: 0.4980 - val_loss: 1.0691 - val_accuracy: 0.5758\n",
      "Epoch 11/25\n",
      "8/8 [==============================] - 7s 871ms/step - loss: 1.0523 - accuracy: 0.5299 - val_loss: 1.0813 - val_accuracy: 0.4697\n",
      "Epoch 12/25\n",
      "8/8 [==============================] - 7s 870ms/step - loss: 1.0487 - accuracy: 0.5339 - val_loss: 1.0560 - val_accuracy: 0.5909\n",
      "Epoch 13/25\n",
      "8/8 [==============================] - 7s 914ms/step - loss: 1.0392 - accuracy: 0.5936 - val_loss: 1.0553 - val_accuracy: 0.5909\n",
      "Epoch 14/25\n",
      "8/8 [==============================] - 7s 884ms/step - loss: 1.0334 - accuracy: 0.6016 - val_loss: 1.0351 - val_accuracy: 0.6061\n",
      "Epoch 15/25\n",
      "8/8 [==============================] - 7s 881ms/step - loss: 1.0320 - accuracy: 0.5936 - val_loss: 1.0355 - val_accuracy: 0.5758\n",
      "Epoch 16/25\n",
      "8/8 [==============================] - 7s 864ms/step - loss: 1.0338 - accuracy: 0.5777 - val_loss: 1.0614 - val_accuracy: 0.5909\n",
      "Epoch 17/25\n",
      "8/8 [==============================] - 7s 886ms/step - loss: 1.0288 - accuracy: 0.5976 - val_loss: 1.0324 - val_accuracy: 0.6212\n",
      "Epoch 18/25\n",
      "8/8 [==============================] - 7s 895ms/step - loss: 1.0245 - accuracy: 0.6215 - val_loss: 1.0534 - val_accuracy: 0.6061\n",
      "Epoch 19/25\n",
      "8/8 [==============================] - 7s 887ms/step - loss: 1.0181 - accuracy: 0.6135 - val_loss: 1.0232 - val_accuracy: 0.6061\n",
      "Epoch 20/25\n",
      "8/8 [==============================] - 7s 892ms/step - loss: 1.0185 - accuracy: 0.6255 - val_loss: 1.0436 - val_accuracy: 0.6061\n",
      "Epoch 21/25\n",
      "8/8 [==============================] - 7s 933ms/step - loss: 1.0096 - accuracy: 0.6454 - val_loss: 1.0211 - val_accuracy: 0.6061\n",
      "Epoch 22/25\n",
      "8/8 [==============================] - 7s 889ms/step - loss: 1.0084 - accuracy: 0.6375 - val_loss: 1.0225 - val_accuracy: 0.6212\n",
      "Epoch 23/25\n",
      "8/8 [==============================] - 7s 904ms/step - loss: 1.0070 - accuracy: 0.5976 - val_loss: 1.0124 - val_accuracy: 0.5909\n",
      "Epoch 24/25\n",
      "8/8 [==============================] - 7s 929ms/step - loss: 1.0093 - accuracy: 0.6056 - val_loss: 1.0772 - val_accuracy: 0.5909\n",
      "Epoch 25/25\n",
      "8/8 [==============================] - 7s 893ms/step - loss: 1.0287 - accuracy: 0.5737 - val_loss: 1.0155 - val_accuracy: 0.6061\n"
     ]
    },
    {
     "data": {
      "text/plain": [
       "<keras.callbacks.History at 0x234475fa580>"
      ]
     },
     "execution_count": 9,
     "metadata": {},
     "output_type": "execute_result"
    }
   ],
   "source": [
    "cnn.add(tf.keras.layers.Flatten())\n",
    "cnn.add(tf.keras.layers.Dense(units=128, activation='relu'))\n",
    "cnn.add(tf.keras.layers.Dense(units=1, activation='sigmoid'))\n",
    "cnn.add(tf.keras.layers.Dense(3, activation='softmax'))\n",
    "cnn.compile(loss = 'kullback_leibler_divergence', optimizer='adam', metrics = ['accuracy'])\n",
    "cnn.fit(x = training_set, validation_data = test_set, epochs = 25)"
   ]
  },
  {
   "cell_type": "code",
   "execution_count": 10,
   "id": "16e878e5",
   "metadata": {},
   "outputs": [
    {
     "name": "stdout",
     "output_type": "stream",
     "text": [
      "1/1 [==============================] - 0s 60ms/step\n",
      "[[0.3863338 0.320863  0.2928032]]\n"
     ]
    }
   ],
   "source": [
    "import numpy as np\n",
    "test_image =tf.keras.utils.load_img('C:/User/Prince/Downloads/Covid19-dataset/test/Covid/094.png', target_size = (64, 64))\n",
    "test_image = tf.keras.utils.img_to_array(test_image)\n",
    "test_image = test_image / 255\n",
    "test_image = np.expand_dims(test_image, axis = 0)\n",
    "result = cnn.predict(test_image)\n",
    "print(result)"
   ]
  }
 ],
 "metadata": {
  "kernelspec": {
   "display_name": "Python 3 (ipykernel)",
   "language": "python",
   "name": "python3"
  },
  "language_info": {
   "codemirror_mode": {
    "name": "ipython",
    "version": 3
   },
   "file_extension": ".py",
   "mimetype": "text/x-python",
   "name": "python",
   "nbconvert_exporter": "python",
   "pygments_lexer": "ipython3",
   "version": "3.9.12"
  }
 },
 "nbformat": 4,
 "nbformat_minor": 5
}
